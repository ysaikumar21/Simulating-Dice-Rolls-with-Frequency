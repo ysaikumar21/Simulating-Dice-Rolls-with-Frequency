{
  "nbformat": 4,
  "nbformat_minor": 0,
  "metadata": {
    "colab": {
      "provenance": []
    },
    "kernelspec": {
      "name": "python3",
      "display_name": "Python 3"
    },
    "language_info": {
      "name": "python"
    }
  },
  "cells": [
    {
      "cell_type": "code",
      "execution_count": 7,
      "metadata": {
        "colab": {
          "base_uri": "https://localhost:8080/"
        },
        "id": "CyApVjR9dQiT",
        "outputId": "d6490e0a-8947-4f03-b62c-79ef61ba714b"
      },
      "outputs": [
        {
          "output_type": "stream",
          "name": "stdout",
          "text": [
            "I will roll 1 dice the random outcome is : 5 \n",
            "How many dice would you like to roll? : 35\n",
            "Your Random Outcomes is : [2, 1, 6, 4, 5, 2, 4, 3, 2, 2, 6, 6, 1, 4, 1, 1, 5, 6, 3, 5, 4, 3, 3, 4, 5, 2, 2, 1, 1, 2, 5, 4, 2, 1, 1]\n",
            "**Simulation of Dice is high range value to roll**\n",
            "number of times you roll the Dices is = 10000\n",
            "Number 1 is possible outcomes is -> 1651\n",
            "Number 2 is possible outcomes is -> 1616\n",
            "Number 3 is possible outcomes is -> 1715\n",
            "Number 4 is possible outcomes is -> 1722\n",
            "Number 5 is possible outcomes is -> 1611\n",
            "Number 6 is possible outcomes is -> 1685\n"
          ]
        }
      ],
      "source": [
        "import random\n",
        "def Roll_1Dice():\n",
        "  result=random.randint(1,6)\n",
        "  return result\n",
        "def Roll_Dices(num_dice):\n",
        "  Results=[]\n",
        "  for _ in range(num_dice):\n",
        "    Results.append(random.randint(1,6))\n",
        "  return Results\n",
        "\n",
        "def simulation_dice_rolls(num_rolls):\n",
        "  result=[0] * 6\n",
        "  for _ in range(num_rolls):\n",
        "    roll=random.randint(1,6)\n",
        "    result[roll-1] += 1\n",
        "  return result\n",
        "print(f'I will roll 1 dice the random outcome is : {Roll_1Dice()} ')\n",
        "num_dice=int(input(\"How many dice would you like to roll? : \"))\n",
        "Result=Roll_Dices(num_dice)\n",
        "print(f'Your Random Outcomes is : {Result}')\n",
        "print(f'**Simulation of Dice is high range value to roll**')\n",
        "num_rolls=int(input(\"number of times you roll the Dices is = \"))\n",
        "outcomes=simulation_dice_rolls(num_rolls)\n",
        "for i,count in enumerate(outcomes,start=1):\n",
        "  print(f'Number {i} is possible outcomes is -> {count}')"
      ]
    },
    {
      "cell_type": "code",
      "source": [],
      "metadata": {
        "id": "UmK6D5UXd9v3"
      },
      "execution_count": null,
      "outputs": []
    }
  ]
}